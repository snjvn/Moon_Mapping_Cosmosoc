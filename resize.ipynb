{
 "cells": [
  {
   "cell_type": "code",
   "execution_count": 2,
   "id": "8a0e5315",
   "metadata": {},
   "outputs": [],
   "source": [
    "from PIL import Image\n",
    "import os\n",
    "import seaborn as sns\n",
    "import matplotlib.pyplot as plt\n",
    "import numpy as np"
   ]
  },
  {
   "cell_type": "code",
   "execution_count": 15,
   "id": "56e3cf2d",
   "metadata": {},
   "outputs": [],
   "source": [
    "from scipy import stats"
   ]
  },
  {
   "cell_type": "code",
   "execution_count": 32,
   "id": "2ea2b1e5",
   "metadata": {},
   "outputs": [],
   "source": [
    "os.chdir('saved_tmc_cropping/')"
   ]
  },
  {
   "cell_type": "code",
   "execution_count": 33,
   "id": "62fa2991",
   "metadata": {},
   "outputs": [
    {
     "data": {
      "text/plain": [
       "'/media/ubuntu/disk/saved_tmc_cropping'"
      ]
     },
     "execution_count": 33,
     "metadata": {},
     "output_type": "execute_result"
    }
   ],
   "source": [
    "os.getcwd()"
   ]
  },
  {
   "cell_type": "code",
   "execution_count": 27,
   "id": "2939f18f",
   "metadata": {},
   "outputs": [],
   "source": [
    "os.chdir('..')"
   ]
  },
  {
   "cell_type": "code",
   "execution_count": 35,
   "id": "c6fedcc8",
   "metadata": {
    "scrolled": true
   },
   "outputs": [
    {
     "name": "stdout",
     "output_type": "stream",
     "text": [
      "not 369 162.png\n",
      "not 369 395.png\n",
      "not 369 709.png\n",
      "not 369 656.png\n",
      "not 369 429.png\n",
      "not 369 579.png\n",
      "756\n"
     ]
    },
    {
     "data": {
      "text/plain": [
       "<seaborn.axisgrid.FacetGrid at 0x7f40dced2b60>"
      ]
     },
     "execution_count": 35,
     "metadata": {},
     "output_type": "execute_result"
    },
    {
     "data": {
      "image/png": "[encoded data removed]",
      "text/plain": [
       "<Figure size 500x500 with 1 Axes>"
      ]
     },
     "metadata": {},
     "output_type": "display_data"
    }
   ],
   "source": [
    "size_array = []\n",
    "for filename in os.listdir():\n",
    "#     print(filename)\n",
    "    img = Image.open(filename)\n",
    "#     print(img.size)\n",
    "    if(img.size[1]!=369):\n",
    "        print(\"not 369\", filename)\n",
    "#     print(\"-----------------------\")\n",
    "    size_array.append(img.size[0])\n",
    "\n",
    "# size_array=[size for size in size_array if size<25]\n",
    "size_array.sort()\n",
    "print(len(size_array))\n",
    "sns.displot(size_array,bins=50)\n",
    "# print(\"max\")\n",
    "# size_array_1= np.array(size_array)\n",
    "# print(size_array_1)\n",
    "# print(np.mean(size_array_1))\n",
    "# print(np.median(size_array_1))\n",
    "# # print(np.unique(size_array_1))\n",
    "# one, two= (np.unique(size_array_1,return_counts=True))\n",
    "# print(one)\n",
    "# print(sum(two[0:5]))\n",
    "# print(stats.mode(size_array_1))\n",
    "# print((size_array))"
   ]
  },
  {
   "cell_type": "code",
   "execution_count": 45,
   "id": "e4a42b78",
   "metadata": {},
   "outputs": [
    {
     "data": {
      "text/plain": [
       "84.13725490196079"
      ]
     },
     "execution_count": 45,
     "metadata": {},
     "output_type": "execute_result"
    }
   ],
   "source": [
    "sum(size_array)/len(size_array)"
   ]
  },
  {
   "cell_type": "code",
   "execution_count": 28,
   "id": "f4f9f32f",
   "metadata": {},
   "outputs": [],
   "source": [
    "width=65\n",
    "height=369"
   ]
  },
  {
   "cell_type": "code",
   "execution_count": 31,
   "id": "4af11d70",
   "metadata": {},
   "outputs": [],
   "source": [
    "input_folder = \"saved_tmc_cropping/\"\n",
    "output_folder = \"resized_cropped_tmc/\"\n",
    "target_size = (width, height)  # Desired output dimensions\n",
    "\n",
    "def resize_image(image_path):\n",
    "    img = Image.open(image_path)\n",
    "    if(img.size[0]>=14):\n",
    "        resized_img = img.resize(target_size, Image.ANTIALIAS)\n",
    "    \n",
    "        return resized_img\n",
    "\n",
    "for filename in os.listdir(input_folder):\n",
    "    if filename.endswith((\".jpg\", \".png\")):\n",
    "        input_path = os.path.join(input_folder, filename)\n",
    "        output_path = os.path.join(output_folder, filename)\n",
    "        resized_image = resize_image(input_path)\n",
    "        if(resized_image!=None):\n",
    "            resized_image.save(output_path)"
   ]
  },
  {
   "cell_type": "code",
   "execution_count": null,
   "id": "487ddfb3",
   "metadata": {},
   "outputs": [],
   "source": []
  }
 ],
 "metadata": {
  "kernelspec": {
   "display_name": "Python 3 (ipykernel)",
   "language": "python",
   "name": "python3"
  },
  "language_info": {
   "codemirror_mode": {
    "name": "ipython",
    "version": 3
   },
   "file_extension": ".py",
   "mimetype": "text/x-python",
   "name": "python",
   "nbconvert_exporter": "python",
   "pygments_lexer": "ipython3",
   "version": "3.10.12"
  }
 },
 "nbformat": 4,
 "nbformat_minor": 5
}
