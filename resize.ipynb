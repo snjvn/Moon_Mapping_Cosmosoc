{
 "cells": [
  {
   "cell_type": "code",
   "execution_count": 1,
   "id": "8a0e5315",
   "metadata": {},
   "outputs": [],
   "source": [
    "from PIL import Image\n",
    "import os\n",
    "import seaborn as sns\n",
    "import matplotlib.pyplot as plt\n",
    "import numpy as np"
   ]
  },
  {
   "cell_type": "code",
   "execution_count": 3,
   "id": "2ea2b1e5",
   "metadata": {},
   "outputs": [],
   "source": [
    "os.chdir('pics')"
   ]
  },
  {
   "cell_type": "code",
   "execution_count": 13,
   "id": "62fa2991",
   "metadata": {},
   "outputs": [
    {
     "data": {
      "text/plain": [
       "'/media/ubuntu/disk'"
      ]
     },
     "execution_count": 13,
     "metadata": {},
     "output_type": "execute_result"
    }
   ],
   "source": [
    "os.getcwd()"
   ]
  },
  {
   "cell_type": "code",
   "execution_count": 11,
   "id": "38904fd8",
   "metadata": {},
   "outputs": [],
   "source": [
    "os.chdir('ohrc_final')"
   ]
  },
  {
   "cell_type": "code",
   "execution_count": 6,
   "id": "0c2d406c",
   "metadata": {},
   "outputs": [
    {
     "data": {
      "text/plain": [
       "['ch2_ohr_ncp_20200827T0423073950_b_brw_d18.png',\n",
       " 'ch2_ohr_ncp_20220321T0525226107_b_brw_d18.png',\n",
       " 'ch2_ohr_ncp_20210401T2357376656_b_brw_hw1.png',\n",
       " 'ch2_ohr_ncp_20210401T2357376656_b_brw_d18.png',\n",
       " 'ch2_ohr_ncp_20200825T1521048453_b_brw_d18.png',\n",
       " 'ch2_ohr_ncp_20220914T1033119094_b_brw_d32.png',\n",
       " 'ch2_ohr_ncp_20200827T0030107497_b_brw_d18.png',\n",
       " 'ch2_ohr_ncp_20200826T0853204550_b_brw_d18.png',\n",
       " 'ch2_ohr_ncp_20210402T0155096873_b_brw_d18.png',\n",
       " 'ch2_ohr_ncp_20211026T1929365546_b_brw_d18.png',\n",
       " 'ch2_ohr_ncp_20220321T0525225877_b_brw_hw1.png',\n",
       " 'ch2_ohr_ncp_20210402T0546284043_b_brw_d18.png',\n",
       " 'ch2_ohr_ncp_20200825T1716291272_b_brw_d18.png',\n",
       " 'ch2_ohr_ncp_20220321T0525226030_b_brw_d18.png',\n",
       " 'ch2_ohr_ncp_20200229T0938004033_b_brw_d32.png',\n",
       " 'ch2_ohr_ncp_20190906T1246532096_b_brw_d18.png',\n",
       " 'ch2_ohr_ncp_20210405T0442095110_b_brw_d32.png',\n",
       " 'ch2_ohr_ncp_20210331T2033243734_b_brw_d18.png',\n",
       " 'ch2_ohr_ncp_20200826T0459464752_b_brw_d18.png',\n",
       " 'ch2_ohr_ncp_20210405T0640233469_b_brw_d18.png',\n",
       " 'ch2_ohr_ncp_20210401T2200364910_b_brw_d18.png',\n",
       " 'ch2_ohr_ncp_20200824T0806596861_b_brw_d18.png',\n",
       " 'ch2_ohr_ncp_20200229T0739312111_b_brw_d18.png',\n",
       " 'ch2_ohr_ncp_20210405T0442095110_b_brw_d18.png',\n",
       " 'ch2_ohr_ncp_20210405T1606536730_b_brw_d18.png',\n",
       " 'ch2_ohr_ncp_20210405T0640233869_b_brw_d32.png',\n",
       " 'ch2_ohr_ncp_20210405T0640233869_b_brw_d18.png',\n",
       " 'ch2_ohr_ncp_20200827T0226453039_b_brw_d18.png',\n",
       " 'ch2_ohr_ncp_20220914T0835371412_b_brw_d32.png',\n",
       " 'ch2_ohr_ncp_20200827T0619368134_b_brw_d18.png',\n",
       " 'ch2_ohr_ncp_20200825T1127278043_b_brw_d18.png',\n",
       " 'ch2_ohr_ncp_20200824T1003365280_b_brw_d18.png',\n",
       " 'ch2_ohr_ncp_20211023T0027462822_b_brw_d18.png',\n",
       " 'ch2_ohr_ncp_20200825T1322594314_b_brw_d18.png',\n",
       " 'ch2_ohr_ncp_20210405T1606537227_b_brw_d18.png']"
      ]
     },
     "execution_count": 6,
     "metadata": {},
     "output_type": "execute_result"
    }
   ],
   "source": [
    "os.listdir()"
   ]
  },
  {
   "cell_type": "code",
   "execution_count": 12,
   "id": "2939f18f",
   "metadata": {},
   "outputs": [],
   "source": [
    "os.chdir('..')"
   ]
  },
  {
   "cell_type": "code",
   "execution_count": 8,
   "id": "c6fedcc8",
   "metadata": {},
   "outputs": [
    {
     "name": "stdout",
     "output_type": "stream",
     "text": [
      "ch2_ohr_ncp_20200827T0423073950_b_brw_d18.png\n",
      "(1200, 9369)\n",
      "-----------------------\n",
      "ch2_ohr_ncp_20220321T0525226107_b_brw_d18.png\n",
      "(1200, 10107)\n",
      "-----------------------\n",
      "ch2_ohr_ncp_20210401T2357376656_b_brw_hw1.png\n",
      "(1200, 9015)\n",
      "-----------------------\n",
      "ch2_ohr_ncp_20210401T2357376656_b_brw_d18.png\n",
      "(1200, 9015)\n",
      "-----------------------\n",
      "ch2_ohr_ncp_20200825T1521048453_b_brw_d18.png\n",
      "(1200, 9369)\n",
      "-----------------------\n",
      "ch2_ohr_ncp_20220914T1033119094_b_brw_d32.png\n",
      "(1200, 7662)\n",
      "-----------------------\n",
      "ch2_ohr_ncp_20200827T0030107497_b_brw_d18.png\n",
      "(1200, 10108)\n",
      "-----------------------\n",
      "ch2_ohr_ncp_20200826T0853204550_b_brw_d18.png\n",
      "(1200, 9369)\n",
      "-----------------------\n",
      "ch2_ohr_ncp_20210402T0155096873_b_brw_d18.png\n",
      "(1200, 9015)\n",
      "-----------------------\n",
      "ch2_ohr_ncp_20211026T1929365546_b_brw_d18.png\n",
      "(1200, 7980)\n",
      "-----------------------\n",
      "ch2_ohr_ncp_20220321T0525225877_b_brw_hw1.png\n",
      "(1200, 10107)\n",
      "-----------------------\n",
      "ch2_ohr_ncp_20210402T0546284043_b_brw_d18.png\n",
      "(1200, 7817)\n",
      "-----------------------\n",
      "ch2_ohr_ncp_20200825T1716291272_b_brw_d18.png\n",
      "(1200, 9369)\n",
      "-----------------------\n",
      "ch2_ohr_ncp_20220321T0525226030_b_brw_d18.png\n",
      "(1200, 10107)\n",
      "-----------------------\n",
      "ch2_ohr_ncp_20200229T0938004033_b_brw_d32.png\n",
      "(1200, 9369)\n",
      "-----------------------\n",
      "ch2_ohr_ncp_20190906T1246532096_b_brw_d18.png\n",
      "(1200, 6323)\n",
      "-----------------------\n",
      "ch2_ohr_ncp_20210405T0442095110_b_brw_d32.png\n",
      "(1200, 10108)\n",
      "-----------------------\n",
      "ch2_ohr_ncp_20210331T2033243734_b_brw_d18.png\n",
      "(1200, 9015)\n",
      "-----------------------\n",
      "ch2_ohr_ncp_20200826T0459464752_b_brw_d18.png\n",
      "(1200, 9369)\n",
      "-----------------------\n",
      "ch2_ohr_ncp_20210405T0640233469_b_brw_d18.png\n",
      "(1200, 9369)\n",
      "-----------------------\n",
      "ch2_ohr_ncp_20210401T2200364910_b_brw_d18.png\n",
      "(1200, 7662)\n",
      "-----------------------\n",
      "ch2_ohr_ncp_20200824T0806596861_b_brw_d18.png\n",
      "(1200, 9015)\n",
      "-----------------------\n",
      "ch2_ohr_ncp_20200229T0739312111_b_brw_d18.png\n",
      "(1200, 9369)\n",
      "-----------------------\n",
      "ch2_ohr_ncp_20210405T0442095110_b_brw_d18.png\n",
      "(1200, 10108)\n",
      "-----------------------\n",
      "ch2_ohr_ncp_20210405T1606536730_b_brw_d18.png\n",
      "(1200, 9369)\n",
      "-----------------------\n",
      "ch2_ohr_ncp_20210405T0640233869_b_brw_d32.png\n",
      "(1200, 9369)\n",
      "-----------------------\n",
      "ch2_ohr_ncp_20210405T0640233869_b_brw_d18.png\n",
      "(1200, 9369)\n",
      "-----------------------\n",
      "ch2_ohr_ncp_20200827T0226453039_b_brw_d18.png\n",
      "(1200, 10108)\n",
      "-----------------------\n",
      "ch2_ohr_ncp_20220914T0835371412_b_brw_d32.png\n",
      "(1200, 7662)\n",
      "-----------------------\n",
      "ch2_ohr_ncp_20200827T0619368134_b_brw_d18.png\n",
      "(1200, 9197)\n",
      "-----------------------\n",
      "ch2_ohr_ncp_20200825T1127278043_b_brw_d18.png\n",
      "(1200, 9369)\n",
      "-----------------------\n",
      "ch2_ohr_ncp_20200824T1003365280_b_brw_d18.png\n",
      "(1200, 9369)\n",
      "-----------------------\n",
      "ch2_ohr_ncp_20211023T0027462822_b_brw_d18.png\n",
      "(1200, 9369)\n",
      "-----------------------\n",
      "ch2_ohr_ncp_20200825T1322594314_b_brw_d18.png\n",
      "(1200, 9015)\n",
      "-----------------------\n",
      "ch2_ohr_ncp_20210405T1606537227_b_brw_d18.png\n",
      "(1200, 9369)\n",
      "-----------------------\n",
      "35\n"
     ]
    },
    {
     "data": {
      "text/plain": [
       "<seaborn.axisgrid.FacetGrid at 0x7f2dd8727f70>"
      ]
     },
     "execution_count": 8,
     "metadata": {},
     "output_type": "execute_result"
    },
    {
     "data": {
      "image/png": "[encoded data removed]",
      "text/plain": [
       "<Figure size 500x500 with 1 Axes>"
      ]
     },
     "metadata": {},
     "output_type": "display_data"
    }
   ],
   "source": [
    "size_array = []\n",
    "for filename in os.listdir():\n",
    "    print(filename)\n",
    "    img = Image.open(filename)\n",
    "    print(img.size)\n",
    "    print(\"-----------------------\")\n",
    "    size_array.append(img.size[1])\n",
    "\n",
    "# size_array=[size for size in size_array if size<25]\n",
    "size_array.sort()\n",
    "print(len(size_array))\n",
    "sns.displot(size_array,bins=25)"
   ]
  },
  {
   "cell_type": "code",
   "execution_count": 14,
   "id": "e4a42b78",
   "metadata": {},
   "outputs": [
    {
     "data": {
      "text/plain": [
       "9133.742857142857"
      ]
     },
     "execution_count": 14,
     "metadata": {},
     "output_type": "execute_result"
    }
   ],
   "source": [
    "sum(size_array)/len(size_array)\n"
   ]
  },
  {
   "cell_type": "code",
   "execution_count": 15,
   "id": "f4f9f32f",
   "metadata": {},
   "outputs": [],
   "source": [
    "width=1200\n",
    "height=9369"
   ]
  },
  {
   "cell_type": "code",
   "execution_count": 16,
   "id": "4af11d70",
   "metadata": {},
   "outputs": [],
   "source": [
    "input_folder = \"ohrc_final\"\n",
    "output_folder = \"ohrc_final_final\"\n",
    "target_size = (width, height)  # Desired output dimensions\n",
    "\n",
    "def resize_image(image_path):\n",
    "    img = Image.open(image_path)\n",
    "    resized_img = img.resize(target_size, Image.ANTIALIAS)\n",
    "    return resized_img\n",
    "\n",
    "for filename in os.listdir(input_folder):\n",
    "    if filename.endswith((\".jpg\", \".png\")):\n",
    "        input_path = os.path.join(input_folder, filename)\n",
    "        output_path = os.path.join(output_folder, filename)\n",
    "        resized_image = resize_image(input_path)\n",
    "        resized_image.save(output_path)"
   ]
  },
  {
   "cell_type": "code",
   "execution_count": null,
   "id": "487ddfb3",
   "metadata": {},
   "outputs": [],
   "source": []
  }
 ],
 "metadata": {
  "kernelspec": {
   "display_name": "Python 3 (ipykernel)",
   "language": "python",
   "name": "python3"
  },
  "language_info": {
   "codemirror_mode": {
    "name": "ipython",
    "version": 3
   },
   "file_extension": ".py",
   "mimetype": "text/x-python",
   "name": "python",
   "nbconvert_exporter": "python",
   "pygments_lexer": "ipython3",
   "version": "3.10.12"
  }
 },
 "nbformat": 4,
 "nbformat_minor": 5
}
