{
 "cells": [
  {
   "cell_type": "code",
   "execution_count": 3,
   "id": "23d39fdd",
   "metadata": {},
   "outputs": [],
   "source": [
    "import os\n",
    "import bs4\n",
    "import numpy as np"
   ]
  },
  {
   "cell_type": "code",
   "execution_count": 11,
   "id": "923c9764",
   "metadata": {},
   "outputs": [],
   "source": [
    "os.chdir('..')"
   ]
  },
  {
   "cell_type": "code",
   "execution_count": 12,
   "id": "2c0d5779",
   "metadata": {},
   "outputs": [
    {
     "name": "stdout",
     "output_type": "stream",
     "text": [
      "ch2_ohr_ncp_20210405T0640233469_d_img_d18\n",
      "ch2_ohr_ncp_20200827T0226453039_d_img_d18\n",
      "ch2_ohr_ncp_20200825T1127278043_d_img_d18\n",
      "ch2_ohr_ncp_20210405T0640233869_d_img_d18\n",
      "ch2_ohr_ncp_20210331T2033243734_d_img_d18\n",
      "ch2_ohr_ncp_20200827T0030107497_d_img_d18\n",
      "ch2_ohr_ncp_20220321T0525226030_d_img_d18\n",
      "latitude inverted\n",
      "4.316016 5.197168\n",
      "longitude inverted\n",
      "230.985151 230.877492\n",
      "ch2_ohr_ncp_20211026T1929365546_d_img_d18\n",
      "latitude inverted\n",
      "-70.243685 -69.409443\n",
      "longitude inverted\n",
      "342.823919 342.585951\n",
      "ch2_ohr_ncp_20220321T0525226107_d_img_d18\n",
      "latitude inverted\n",
      "4.316157 5.197311\n",
      "longitude inverted\n",
      "230.985227 230.877558\n",
      "ch2_ohr_ncp_20210405T0640233869_d_img_d32\n",
      "ch2_ohr_ncp_20210405T1606537227_d_img_d18\n",
      "ch2_ohr_ncp_20200825T1716291272_d_img_d18\n",
      "ch2_ohr_ncp_20200824T1003365280_d_img_d18\n",
      "ch2_ohr_ncp_20210401T2200364910_d_img_d18\n",
      "ch2_ohr_ncp_20210405T1606536730_d_img_d18\n",
      "ch2_ohr_ncp_20200825T1322594314_d_img_d18\n",
      "ch2_ohr_ncp_20200229T0739312111_d_img_d18\n",
      "latitude inverted\n",
      "-74.36605 -73.516771\n",
      "longitude inverted\n",
      "43.709461 43.625522\n",
      "ch2_ohr_ncp_20210405T0442095110_d_img_d18\n",
      "ch2_ohr_ncp_20200826T0853204550_d_img_d18\n",
      "ch2_ohr_ncp_20210402T0155096873_d_img_d18\n",
      "ch2_ohr_ncp_20211023T0027462822_d_img_d18\n",
      "latitude inverted\n",
      "-69.691236 -68.849578\n",
      "longitude inverted\n",
      "32.430963 32.248055\n",
      "ch2_ohr_ncp_20200827T0423073950_d_img_d18\n",
      "ch2_ohr_ncp_20190906T1246532096_d_img_d18\n",
      "longitude inverted\n",
      "71.334305 69.299801\n",
      "ch2_ohr_ncp_20220321T0525225877_d_img_hw1\n",
      "latitude inverted\n",
      "4.315163 5.196323\n",
      "longitude inverted\n",
      "230.985095 230.877434\n",
      "ch2_ohr_ncp_20200229T0938004033_d_img_d32\n",
      "latitude inverted\n",
      "-73.920405 -73.071384\n",
      "longitude inverted\n",
      "42.799376 42.706306\n",
      "ch2_ohr_ncp_20210401T2357376656_d_img_hw1\n",
      "ch2_ohr_ncp_20210402T0546284043_d_img_d18\n",
      "ch2_ohr_ncp_20200827T0619368134_d_img_d18\n",
      "ch2_ohr_ncp_20210401T2357376656_d_img_d18\n",
      "ch2_ohr_ncp_20210405T0442095110_d_img_d32\n",
      "ch2_ohr_ncp_20220914T1033119094_d_img_d32\n",
      "ch2_ohr_ncp_20220914T0835371412_d_img_d32\n",
      "ch2_ohr_ncp_20200824T0806596861_d_img_d18\n",
      "ch2_ohr_ncp_20200826T0459464752_d_img_d18\n",
      "ch2_ohr_ncp_20200825T1521048453_d_img_d18\n"
     ]
    }
   ],
   "source": [
    "os.chdir('ohrc_calibrated/')\n",
    "c = 0\n",
    "for folder in os.listdir():\n",
    "    os.chdir(folder+'/data/calibrated/'+folder[12:20])\n",
    "#     print(1,os.getcwd())\n",
    "    print(folder)\n",
    "    lat = np.zeros((2, 2))\n",
    "    lon = np.zeros((2, 2))\n",
    "    for file in os.listdir():\n",
    "        if '.xml' in file:\n",
    "            with open(file, 'r') as xml_file:\n",
    "                contents = xml_file.read()\n",
    "\n",
    "            soup = bs4.BeautifulSoup(contents, 'lxml')\n",
    "            lat[0, 0] = float(soup.find_all('isda:upper_left_latitude')[1].text)\n",
    "            lat[0, 1] = float(soup.find_all('isda:upper_right_latitude')[1].text)\n",
    "            lat[1, 0] = float(soup.find_all('isda:lower_left_latitude')[1].text)\n",
    "            lat[1, 1] = float(soup.find_all('isda:lower_right_latitude')[1].text)\n",
    "\n",
    "            lon[0, 0] = float(soup.find_all('isda:upper_left_longitude')[1].text)\n",
    "            lon[0, 1] = float(soup.find_all('isda:upper_right_longitude')[1].text)\n",
    "            lon[1, 0] = float(soup.find_all('isda:lower_left_longitude')[1].text)\n",
    "            lon[1, 1] = float(soup.find_all('isda:lower_right_longitude')[1].text)\n",
    "            \n",
    "            \n",
    "            if lat[0, 0] < lat[1, 1]:\n",
    "                print('latitude inverted')\n",
    "                print(lat[0, 0], lat[1, 1])\n",
    "                c+=1\n",
    "                \n",
    "            if lon[0, 0] > lon[1, 1]:\n",
    "                print('longitude inverted')\n",
    "                print(lon[0, 0], lon[1, 1])\n",
    "\n",
    "    os.chdir(\"../../../../\")    "
   ]
  },
  {
   "cell_type": "code",
   "execution_count": 13,
   "id": "e7ac545f",
   "metadata": {},
   "outputs": [
    {
     "name": "stdout",
     "output_type": "stream",
     "text": [
      "7\n"
     ]
    }
   ],
   "source": [
    "print(c)"
   ]
  },
  {
   "cell_type": "code",
   "execution_count": null,
   "id": "115f67f6",
   "metadata": {},
   "outputs": [],
   "source": []
  }
 ],
 "metadata": {
  "kernelspec": {
   "display_name": "Python 3 (ipykernel)",
   "language": "python",
   "name": "python3"
  },
  "language_info": {
   "codemirror_mode": {
    "name": "ipython",
    "version": 3
   },
   "file_extension": ".py",
   "mimetype": "text/x-python",
   "name": "python",
   "nbconvert_exporter": "python",
   "pygments_lexer": "ipython3",
   "version": "3.10.12"
  }
 },
 "nbformat": 4,
 "nbformat_minor": 5
}
