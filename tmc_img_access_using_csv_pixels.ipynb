{
 "cells": [
  {
   "cell_type": "code",
   "execution_count": 22,
   "id": "05e7df7f",
   "metadata": {},
   "outputs": [],
   "source": [
    "import numpy as np\n",
    "import matplotlib.pyplot as plt\n",
    "import pandas as pd"
   ]
  },
  {
   "cell_type": "code",
   "execution_count": 2,
   "id": "87d66386",
   "metadata": {},
   "outputs": [],
   "source": [
    "import bs4 "
   ]
  },
  {
   "cell_type": "code",
   "execution_count": null,
   "id": "d8370268",
   "metadata": {},
   "outputs": [],
   "source": [
    "import os\n"
   ]
  },
  {
   "cell_type": "code",
   "execution_count": 16,
   "id": "a51ac5e7",
   "metadata": {},
   "outputs": [],
   "source": [
    "with open('ch2_ohr_ncp_20190906T1246532096_d_img_d18.xml', 'r') as xml_file:\n",
    "    contents = xml_file.read()\n",
    "\n",
    "soup = bs4.BeautifulSoup(contents, 'lxml')"
   ]
  },
  {
   "cell_type": "code",
   "execution_count": 17,
   "id": "e1344f1d",
   "metadata": {},
   "outputs": [],
   "source": [
    "lat = np.zeros((2, 2))\n",
    "lon = np.zeros((2, 2))"
   ]
  },
  {
   "cell_type": "code",
   "execution_count": 18,
   "id": "79c20485",
   "metadata": {},
   "outputs": [
    {
     "data": {
      "text/plain": [
       "array([[-14.323756, -16.72985 ],\n",
       "       [-14.735024, -17.15629 ]])"
      ]
     },
     "execution_count": 18,
     "metadata": {},
     "output_type": "execute_result"
    }
   ],
   "source": [
    "lat[0, 0] = float(soup.find_all('isda:upper_left_latitude')[1].text)\n",
    "lat[0, 1] = float(soup.find_all('isda:upper_right_latitude')[1].text)\n",
    "lat[1, 0] = float(soup.find_all('isda:lower_left_latitude')[1].text)\n",
    "lat[1, 1] = float(soup.find_all('isda:lower_right_latitude')[1].text)\n",
    "lat"
   ]
  },
  {
   "cell_type": "code",
   "execution_count": 19,
   "id": "6ff71a4c",
   "metadata": {},
   "outputs": [
    {
     "data": {
      "text/plain": [
       "array([[71.334305, 69.174869],\n",
       "       [71.445725, 69.299801]])"
      ]
     },
     "execution_count": 19,
     "metadata": {},
     "output_type": "execute_result"
    }
   ],
   "source": [
    "lon[0, 0] = float(soup.find_all('isda:upper_left_longitude')[1].text)\n",
    "lon[0, 1] = float(soup.find_all('isda:upper_right_longitude')[1].text)\n",
    "lon[1, 0] = float(soup.find_all('isda:lower_left_longitude')[1].text)\n",
    "lon[1, 1] = float(soup.find_all('isda:lower_right_longitude')[1].text)\n",
    "lon"
   ]
  },
  {
   "cell_type": "code",
   "execution_count": 20,
   "id": "22ea4813",
   "metadata": {},
   "outputs": [],
   "source": [
    "csv = 'ch2_tmc_ncn_20230205T1606344957_g_grd_n18.csv'"
   ]
  },
  {
   "cell_type": "code",
   "execution_count": 23,
   "id": "49104744",
   "metadata": {},
   "outputs": [],
   "source": [
    "df = pd.read_csv(csv)\n",
    "df['ul_lon_difference'] = df['Longitude'] - lon[0, 0]\n",
    "df['ur_lon_difference'] = df['Longitude'] - lon[0, 1]\n",
    "df['ll_lon_difference'] = df['Longitude'] - lon[1, 0]\n",
    "df['lr_lon_difference'] = df['Longitude'] - lon[1, 1]\n",
    "\n",
    "df['ul_lat_difference'] = df['Latitude'] - lat[0, 0]\n",
    "df['ur_lat_difference'] = df['Latitude'] - lat[0, 1]\n",
    "df['ll_lat_difference'] = df['Latitude'] - lat[1, 0]\n",
    "df['lr_lat_difference'] = df['Latitude'] - lat[1, 1]"
   ]
  },
  {
   "cell_type": "code",
   "execution_count": 24,
   "id": "68e37401",
   "metadata": {},
   "outputs": [
    {
     "data": {
      "text/html": [
       "<div>\n",
       "<style scoped>\n",
       "    .dataframe tbody tr th:only-of-type {\n",
       "        vertical-align: middle;\n",
       "    }\n",
       "\n",
       "    .dataframe tbody tr th {\n",
       "        vertical-align: top;\n",
       "    }\n",
       "\n",
       "    .dataframe thead th {\n",
       "        text-align: right;\n",
       "    }\n",
       "</style>\n",
       "<table border=\"1\" class=\"dataframe\">\n",
       "  <thead>\n",
       "    <tr style=\"text-align: right;\">\n",
       "      <th></th>\n",
       "      <th>Longitude</th>\n",
       "      <th>Latitude</th>\n",
       "      <th>Pixel</th>\n",
       "      <th>Scan</th>\n",
       "      <th>ul_lon_difference</th>\n",
       "      <th>ur_lon_difference</th>\n",
       "      <th>ll_lon_difference</th>\n",
       "      <th>lr_lon_difference</th>\n",
       "      <th>ul_lat_difference</th>\n",
       "      <th>ur_lat_difference</th>\n",
       "      <th>ll_lat_difference</th>\n",
       "      <th>lr_lat_difference</th>\n",
       "    </tr>\n",
       "  </thead>\n",
       "  <tbody>\n",
       "    <tr>\n",
       "      <th>0</th>\n",
       "      <td>107.500090</td>\n",
       "      <td>-88.514615</td>\n",
       "      <td>0</td>\n",
       "      <td>0</td>\n",
       "      <td>36.165785</td>\n",
       "      <td>38.325221</td>\n",
       "      <td>36.054365</td>\n",
       "      <td>38.200289</td>\n",
       "      <td>-74.190859</td>\n",
       "      <td>-71.784765</td>\n",
       "      <td>-73.779591</td>\n",
       "      <td>-71.358325</td>\n",
       "    </tr>\n",
       "    <tr>\n",
       "      <th>1</th>\n",
       "      <td>108.166314</td>\n",
       "      <td>-88.522820</td>\n",
       "      <td>100</td>\n",
       "      <td>0</td>\n",
       "      <td>36.832009</td>\n",
       "      <td>38.991445</td>\n",
       "      <td>36.720589</td>\n",
       "      <td>38.866513</td>\n",
       "      <td>-74.199064</td>\n",
       "      <td>-71.792970</td>\n",
       "      <td>-73.787796</td>\n",
       "      <td>-71.366530</td>\n",
       "    </tr>\n",
       "    <tr>\n",
       "      <th>2</th>\n",
       "      <td>108.839827</td>\n",
       "      <td>-88.530823</td>\n",
       "      <td>200</td>\n",
       "      <td>0</td>\n",
       "      <td>37.505522</td>\n",
       "      <td>39.664958</td>\n",
       "      <td>37.394102</td>\n",
       "      <td>39.540026</td>\n",
       "      <td>-74.207067</td>\n",
       "      <td>-71.800973</td>\n",
       "      <td>-73.795799</td>\n",
       "      <td>-71.374533</td>\n",
       "    </tr>\n",
       "    <tr>\n",
       "      <th>3</th>\n",
       "      <td>109.520565</td>\n",
       "      <td>-88.538620</td>\n",
       "      <td>300</td>\n",
       "      <td>0</td>\n",
       "      <td>38.186260</td>\n",
       "      <td>40.345696</td>\n",
       "      <td>38.074840</td>\n",
       "      <td>40.220764</td>\n",
       "      <td>-74.214864</td>\n",
       "      <td>-71.808770</td>\n",
       "      <td>-73.803596</td>\n",
       "      <td>-71.382330</td>\n",
       "    </tr>\n",
       "    <tr>\n",
       "      <th>4</th>\n",
       "      <td>110.208451</td>\n",
       "      <td>-88.546207</td>\n",
       "      <td>400</td>\n",
       "      <td>0</td>\n",
       "      <td>38.874146</td>\n",
       "      <td>41.033582</td>\n",
       "      <td>38.762726</td>\n",
       "      <td>40.908650</td>\n",
       "      <td>-74.222451</td>\n",
       "      <td>-71.816357</td>\n",
       "      <td>-73.811183</td>\n",
       "      <td>-71.389917</td>\n",
       "    </tr>\n",
       "    <tr>\n",
       "      <th>...</th>\n",
       "      <td>...</td>\n",
       "      <td>...</td>\n",
       "      <td>...</td>\n",
       "      <td>...</td>\n",
       "      <td>...</td>\n",
       "      <td>...</td>\n",
       "      <td>...</td>\n",
       "      <td>...</td>\n",
       "      <td>...</td>\n",
       "      <td>...</td>\n",
       "      <td>...</td>\n",
       "      <td>...</td>\n",
       "    </tr>\n",
       "    <tr>\n",
       "      <th>61659</th>\n",
       "      <td>313.184047</td>\n",
       "      <td>-66.828147</td>\n",
       "      <td>3600</td>\n",
       "      <td>150205</td>\n",
       "      <td>241.849742</td>\n",
       "      <td>244.009178</td>\n",
       "      <td>241.738322</td>\n",
       "      <td>243.884246</td>\n",
       "      <td>-52.504391</td>\n",
       "      <td>-50.098297</td>\n",
       "      <td>-52.093123</td>\n",
       "      <td>-49.671857</td>\n",
       "    </tr>\n",
       "    <tr>\n",
       "      <th>61660</th>\n",
       "      <td>313.137689</td>\n",
       "      <td>-66.828161</td>\n",
       "      <td>3700</td>\n",
       "      <td>150205</td>\n",
       "      <td>241.803384</td>\n",
       "      <td>243.962820</td>\n",
       "      <td>241.691964</td>\n",
       "      <td>243.837888</td>\n",
       "      <td>-52.504405</td>\n",
       "      <td>-50.098311</td>\n",
       "      <td>-52.093137</td>\n",
       "      <td>-49.671871</td>\n",
       "    </tr>\n",
       "    <tr>\n",
       "      <th>61661</th>\n",
       "      <td>313.091327</td>\n",
       "      <td>-66.828162</td>\n",
       "      <td>3800</td>\n",
       "      <td>150205</td>\n",
       "      <td>241.757022</td>\n",
       "      <td>243.916458</td>\n",
       "      <td>241.645602</td>\n",
       "      <td>243.791526</td>\n",
       "      <td>-52.504406</td>\n",
       "      <td>-50.098312</td>\n",
       "      <td>-52.093138</td>\n",
       "      <td>-49.671872</td>\n",
       "    </tr>\n",
       "    <tr>\n",
       "      <th>61662</th>\n",
       "      <td>313.044960</td>\n",
       "      <td>-66.828148</td>\n",
       "      <td>3900</td>\n",
       "      <td>150205</td>\n",
       "      <td>241.710655</td>\n",
       "      <td>243.870091</td>\n",
       "      <td>241.599235</td>\n",
       "      <td>243.745159</td>\n",
       "      <td>-52.504392</td>\n",
       "      <td>-50.098298</td>\n",
       "      <td>-52.093124</td>\n",
       "      <td>-49.671858</td>\n",
       "    </tr>\n",
       "    <tr>\n",
       "      <th>61663</th>\n",
       "      <td>312.999053</td>\n",
       "      <td>-66.828122</td>\n",
       "      <td>3999</td>\n",
       "      <td>150205</td>\n",
       "      <td>241.664748</td>\n",
       "      <td>243.824184</td>\n",
       "      <td>241.553328</td>\n",
       "      <td>243.699252</td>\n",
       "      <td>-52.504366</td>\n",
       "      <td>-50.098272</td>\n",
       "      <td>-52.093098</td>\n",
       "      <td>-49.671832</td>\n",
       "    </tr>\n",
       "  </tbody>\n",
       "</table>\n",
       "<p>61664 rows × 12 columns</p>\n",
       "</div>"
      ],
      "text/plain": [
       "        Longitude   Latitude  Pixel    Scan  ul_lon_difference  \\\n",
       "0      107.500090 -88.514615      0       0          36.165785   \n",
       "1      108.166314 -88.522820    100       0          36.832009   \n",
       "2      108.839827 -88.530823    200       0          37.505522   \n",
       "3      109.520565 -88.538620    300       0          38.186260   \n",
       "4      110.208451 -88.546207    400       0          38.874146   \n",
       "...           ...        ...    ...     ...                ...   \n",
       "61659  313.184047 -66.828147   3600  150205         241.849742   \n",
       "61660  313.137689 -66.828161   3700  150205         241.803384   \n",
       "61661  313.091327 -66.828162   3800  150205         241.757022   \n",
       "61662  313.044960 -66.828148   3900  150205         241.710655   \n",
       "61663  312.999053 -66.828122   3999  150205         241.664748   \n",
       "\n",
       "       ur_lon_difference  ll_lon_difference  lr_lon_difference  \\\n",
       "0              38.325221          36.054365          38.200289   \n",
       "1              38.991445          36.720589          38.866513   \n",
       "2              39.664958          37.394102          39.540026   \n",
       "3              40.345696          38.074840          40.220764   \n",
       "4              41.033582          38.762726          40.908650   \n",
       "...                  ...                ...                ...   \n",
       "61659         244.009178         241.738322         243.884246   \n",
       "61660         243.962820         241.691964         243.837888   \n",
       "61661         243.916458         241.645602         243.791526   \n",
       "61662         243.870091         241.599235         243.745159   \n",
       "61663         243.824184         241.553328         243.699252   \n",
       "\n",
       "       ul_lat_difference  ur_lat_difference  ll_lat_difference  \\\n",
       "0             -74.190859         -71.784765         -73.779591   \n",
       "1             -74.199064         -71.792970         -73.787796   \n",
       "2             -74.207067         -71.800973         -73.795799   \n",
       "3             -74.214864         -71.808770         -73.803596   \n",
       "4             -74.222451         -71.816357         -73.811183   \n",
       "...                  ...                ...                ...   \n",
       "61659         -52.504391         -50.098297         -52.093123   \n",
       "61660         -52.504405         -50.098311         -52.093137   \n",
       "61661         -52.504406         -50.098312         -52.093138   \n",
       "61662         -52.504392         -50.098298         -52.093124   \n",
       "61663         -52.504366         -50.098272         -52.093098   \n",
       "\n",
       "       lr_lat_difference  \n",
       "0             -71.358325  \n",
       "1             -71.366530  \n",
       "2             -71.374533  \n",
       "3             -71.382330  \n",
       "4             -71.389917  \n",
       "...                  ...  \n",
       "61659         -49.671857  \n",
       "61660         -49.671871  \n",
       "61661         -49.671872  \n",
       "61662         -49.671858  \n",
       "61663         -49.671832  \n",
       "\n",
       "[61664 rows x 12 columns]"
      ]
     },
     "execution_count": 24,
     "metadata": {},
     "output_type": "execute_result"
    }
   ],
   "source": [
    "df"
   ]
  },
  {
   "cell_type": "code",
   "execution_count": 66,
   "id": "254f3913",
   "metadata": {},
   "outputs": [],
   "source": [
    "ul_lon_df = df[abs(df['ul_lon_difference']) < 0.1]\n",
    "ur_lon_df = df[abs(df['ur_lon_difference']) < 0.1]\n",
    "ll_lon_df = df[abs(df['ll_lon_difference']) < 0.1]\n",
    "lr_lon_df = df[abs(df['lr_lon_difference']) < 0.1]\n",
    "\n",
    "ul_lat_df = df[abs(df['ul_lat_difference']) < 0.1]\n",
    "ur_lat_df = df[abs(df['ur_lat_difference']) < 0.1]\n",
    "ll_lat_df = df[abs(df['ll_lat_difference']) < 0.1]\n",
    "lr_lat_df = df[abs(df['lr_lat_difference']) < 0.1]"
   ]
  },
  {
   "cell_type": "code",
   "execution_count": 85,
   "id": "18b200b8",
   "metadata": {},
   "outputs": [
    {
     "name": "stderr",
     "output_type": "stream",
     "text": [
      "/tmp/ipykernel_4677/4164855971.py:1: FutureWarning: Calling int on a single element Series is deprecated and will raise a TypeError in the future. Use int(ser.iloc[0]) instead\n",
      "  ur_long_pix=int(df[abs(df['ur_lon_difference']) == min(abs(df['ur_lon_difference']))]['Pixel'])\n"
     ]
    }
   ],
   "source": [
    "ur_long_pix=int(df[abs(df['ur_lon_difference']) == min(abs(df['ur_lon_difference']))]['Pixel'])"
   ]
  },
  {
   "cell_type": "code",
   "execution_count": 86,
   "id": "7e774c3b",
   "metadata": {},
   "outputs": [
    {
     "name": "stderr",
     "output_type": "stream",
     "text": [
      "/tmp/ipykernel_4677/592313435.py:1: FutureWarning: Calling int on a single element Series is deprecated and will raise a TypeError in the future. Use int(ser.iloc[0]) instead\n",
      "  ll_long_pix=int(df[abs(df['ll_lon_difference']) == min(abs(df['ll_lon_difference']))][\"Pixel\"])\n"
     ]
    }
   ],
   "source": [
    "ll_long_pix=int(df[abs(df['ll_lon_difference']) == min(abs(df['ll_lon_difference']))][\"Pixel\"])"
   ]
  },
  {
   "cell_type": "code",
   "execution_count": 87,
   "id": "31e59f00",
   "metadata": {},
   "outputs": [
    {
     "name": "stderr",
     "output_type": "stream",
     "text": [
      "/tmp/ipykernel_4677/1161981781.py:1: FutureWarning: Calling int on a single element Series is deprecated and will raise a TypeError in the future. Use int(ser.iloc[0]) instead\n",
      "  ur_lat_scan=int(df[abs(df['ur_lat_difference']) == min(abs(df['ur_lat_difference']))][\"Scan\"])\n"
     ]
    }
   ],
   "source": [
    "ur_lat_scan=int(df[abs(df['ur_lat_difference']) == min(abs(df['ur_lat_difference']))][\"Scan\"])"
   ]
  },
  {
   "cell_type": "code",
   "execution_count": 88,
   "id": "e7881253",
   "metadata": {},
   "outputs": [
    {
     "name": "stderr",
     "output_type": "stream",
     "text": [
      "/tmp/ipykernel_4677/1273373090.py:1: FutureWarning: Calling int on a single element Series is deprecated and will raise a TypeError in the future. Use int(ser.iloc[0]) instead\n",
      "  ll_lat_scan=int(df[abs(df['ll_lat_difference']) == min(abs(df['ll_lat_difference']))]['Scan'])\n"
     ]
    }
   ],
   "source": [
    "ll_lat_scan=int(df[abs(df['ll_lat_difference']) == min(abs(df['ll_lat_difference']))]['Scan'])"
   ]
  },
  {
   "cell_type": "code",
   "execution_count": 89,
   "id": "4b6ad4fc",
   "metadata": {},
   "outputs": [],
   "source": [
    "with open('ch2_tmc_ncn_20230205T1606344957_d_img_n18.xml', 'r') as xml_file:\n",
    "    contents = xml_file.read()\n",
    "\n",
    "soup = bs4.BeautifulSoup(contents, 'lxml')"
   ]
  },
  {
   "cell_type": "code",
   "execution_count": 90,
   "id": "a2216e64",
   "metadata": {},
   "outputs": [],
   "source": [
    "w=int(soup.find_all(\"elements\")[0].text)\n",
    "h=int(soup.find_all(\"elements\")[1].text)"
   ]
  },
  {
   "cell_type": "code",
   "execution_count": 91,
   "id": "e9598b10",
   "metadata": {},
   "outputs": [
    {
     "data": {
      "text/plain": [
       "1201648000"
      ]
     },
     "execution_count": 91,
     "metadata": {},
     "output_type": "execute_result"
    }
   ],
   "source": [
    "filename = 'ch2_tmc_ncn_20230205T1606344957_d_img_n18.img' \n",
    "\n",
    "# set width and height \n",
    "# w, h = 176476, 4000 \n",
    "\n",
    "with open(filename, 'rb') as img:\n",
    "    img_bytes = img.read()\n",
    "len(img_bytes)"
   ]
  },
  {
   "cell_type": "code",
   "execution_count": 92,
   "id": "52de363c",
   "metadata": {},
   "outputs": [
    {
     "data": {
      "text/plain": [
       "(150206, 4000)"
      ]
     },
     "execution_count": 92,
     "metadata": {},
     "output_type": "execute_result"
    }
   ],
   "source": [
    "img_array = np.frombuffer(img_bytes, dtype = np.uint16).reshape(w, h)\n",
    "img_array.shape"
   ]
  },
  {
   "cell_type": "code",
   "execution_count": 93,
   "id": "6166029b",
   "metadata": {},
   "outputs": [
    {
     "name": "stdout",
     "output_type": "stream",
     "text": [
      "150205 150205\n"
     ]
    }
   ],
   "source": [
    "print(ur_lat_scan,ll_lat_scan)"
   ]
  },
  {
   "cell_type": "code",
   "execution_count": 94,
   "id": "ef2e30c5",
   "metadata": {},
   "outputs": [
    {
     "name": "stderr",
     "output_type": "stream",
     "text": [
      "/tmp/ipykernel_4677/2424065965.py:1: UserWarning: Attempting to set identical left == right == -0.5 results in singular transformations; automatically expanding.\n",
      "  plt.imshow(img_array[ll_lat_scan:ur_lat_scan:-1, ur_long_pix:ll_long_pix], cmap='gray', origin='lower')\n",
      "/tmp/ipykernel_4677/2424065965.py:1: UserWarning: Attempting to set identical bottom == top == -0.5 results in singular transformations; automatically expanding.\n",
      "  plt.imshow(img_array[ll_lat_scan:ur_lat_scan:-1, ur_long_pix:ll_long_pix], cmap='gray', origin='lower')\n"
     ]
    },
    {
     "data": {
      "text/plain": [
       "<matplotlib.image.AxesImage at 0x7f5fc38281f0>"
      ]
     },
     "execution_count": 94,
     "metadata": {},
     "output_type": "execute_result"
    },
    {
     "data": {
      "image/png": "[encoded data removed]",
      "text/plain": [
       "<Figure size 640x480 with 1 Axes>"
      ]
     },
     "metadata": {},
     "output_type": "display_data"
    }
   ],
   "source": [
    "plt.imshow(img_array[ll_lat_scan:ur_lat_scan:-1, ur_long_pix:ll_long_pix], cmap='gray', origin='lower')"
   ]
  },
  {
   "cell_type": "markdown",
   "id": "15b3de1a",
   "metadata": {},
   "source": [
    "another image"
   ]
  },
  {
   "cell_type": "code",
   "execution_count": 9,
   "id": "f2bbc36d",
   "metadata": {},
   "outputs": [
    {
     "data": {
      "text/plain": [
       "1526368000"
      ]
     },
     "execution_count": 9,
     "metadata": {},
     "output_type": "execute_result"
    }
   ],
   "source": [
    "filename = 'ch2_tmc_ncn_20211111T1322553940_d_img_d18.img' \n",
    "\n",
    "# set width and height \n",
    "w, h = 190796, 4000 \n",
    "\n",
    "with open(filename, 'rb') as img:\n",
    "    img_bytes = img.read()\n",
    "len(img_bytes)"
   ]
  },
  {
   "cell_type": "code",
   "execution_count": 10,
   "id": "e071284b",
   "metadata": {},
   "outputs": [
    {
     "data": {
      "text/plain": [
       "(190796, 4000)"
      ]
     },
     "execution_count": 10,
     "metadata": {},
     "output_type": "execute_result"
    }
   ],
   "source": [
    "img_array = np.frombuffer(img_bytes, dtype = np.uint16).reshape(w, h)\n",
    "img_array.shape"
   ]
  },
  {
   "cell_type": "code",
   "execution_count": 15,
   "id": "d06a2798",
   "metadata": {},
   "outputs": [
    {
     "data": {
      "text/plain": [
       "<matplotlib.image.AxesImage at 0x1dd7f9b9300>"
      ]
     },
     "execution_count": 15,
     "metadata": {},
     "output_type": "execute_result"
    },
    {
     "data": {
      "image/png": "[encoded data removed]",
      "text/plain": [
       "<Figure size 640x480 with 1 Axes>"
      ]
     },
     "metadata": {},
     "output_type": "display_data"
    }
   ],
   "source": [
    "plt.imshow(img_array[185600:180600:-1, 500:1200], cmap='gray', origin='lower')"
   ]
  },
  {
   "cell_type": "code",
   "execution_count": null,
   "id": "51699aab",
   "metadata": {},
   "outputs": [],
   "source": []
  }
 ],
 "metadata": {
  "kernelspec": {
   "display_name": "Python 3 (ipykernel)",
   "language": "python",
   "name": "python3"
  },
  "language_info": {
   "codemirror_mode": {
    "name": "ipython",
    "version": 3
   },
   "file_extension": ".py",
   "mimetype": "text/x-python",
   "name": "python",
   "nbconvert_exporter": "python",
   "pygments_lexer": "ipython3",
   "version": "3.10.12"
  }
 },
 "nbformat": 4,
 "nbformat_minor": 5
}
