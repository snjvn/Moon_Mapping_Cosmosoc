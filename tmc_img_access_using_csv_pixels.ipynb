{
 "cells": [
  {
   "cell_type": "code",
   "execution_count": 1,
   "id": "05e7df7f",
   "metadata": {},
   "outputs": [],
   "source": [
    "import numpy as np\n",
    "import matplotlib.pyplot as plt\n",
    "import pandas as pd"
   ]
  },
  {
   "cell_type": "code",
   "execution_count": 2,
   "id": "87d66386",
   "metadata": {},
   "outputs": [],
   "source": [
    "import bs4 "
   ]
  },
  {
   "cell_type": "code",
   "execution_count": 3,
   "id": "d8370268",
   "metadata": {},
   "outputs": [],
   "source": [
    "import os"
   ]
  },
  {
   "cell_type": "code",
   "execution_count": 4,
   "id": "2fc1cf7b",
   "metadata": {},
   "outputs": [
    {
     "data": {
      "text/plain": [
       "'/media/ubuntu/disk'"
      ]
     },
     "execution_count": 4,
     "metadata": {},
     "output_type": "execute_result"
    }
   ],
   "source": [
    "os.getcwd()"
   ]
  },
  {
   "cell_type": "code",
   "execution_count": 8,
   "id": "810f467f",
   "metadata": {},
   "outputs": [],
   "source": [
    "os.chdir('disk')"
   ]
  },
  {
   "cell_type": "code",
   "execution_count": 6,
   "id": "75129777",
   "metadata": {},
   "outputs": [],
   "source": [
    "os.chdir(\"..\")"
   ]
  },
  {
   "cell_type": "code",
   "execution_count": 5,
   "id": "061c085e",
   "metadata": {},
   "outputs": [
    {
     "data": {
      "text/plain": [
       "Index(['Unnamed: 0', 'ohrc', 'tmc'], dtype='object')"
      ]
     },
     "execution_count": 5,
     "metadata": {},
     "output_type": "execute_result"
    }
   ],
   "source": [
    "df_LR_HR = pd.read_csv('LR_HR_pairs.csv')\n",
    "df_LR_HR.columns"
   ]
  },
  {
   "cell_type": "code",
   "execution_count": null,
   "id": "158c00fe",
   "metadata": {},
   "outputs": [
    {
     "name": "stdout",
     "output_type": "stream",
     "text": [
      "3 /media/ubuntu/disk/tmc_intersects\n",
      "6 /media/ubuntu/disk/tmc_intersects/ch2_tmc_ncn_20220109T1615439830_d_img_d32\n"
     ]
    },
    {
     "name": "stderr",
     "output_type": "stream",
     "text": [
      "/tmp/ipykernel_8092/1678267675.py:82: FutureWarning: Calling int on a single element Series is deprecated and will raise a TypeError in the future. Use int(ser.iloc[0]) instead\n",
      "  ur_long_pix=int(df[abs(df['ur_lon_difference']) == min(abs(df['ur_lon_difference']))]['Pixel'])\n",
      "/tmp/ipykernel_8092/1678267675.py:83: FutureWarning: Calling int on a single element Series is deprecated and will raise a TypeError in the future. Use int(ser.iloc[0]) instead\n",
      "  ll_long_pix=int(df[abs(df['ll_lon_difference']) == min(abs(df['ll_lon_difference']))][\"Pixel\"])\n",
      "/tmp/ipykernel_8092/1678267675.py:84: FutureWarning: Calling int on a single element Series is deprecated and will raise a TypeError in the future. Use int(ser.iloc[0]) instead\n",
      "  ur_lat_scan=int(df[abs(df['ur_lat_difference']) == min(abs(df['ur_lat_difference']))][\"Scan\"])\n",
      "/tmp/ipykernel_8092/1678267675.py:85: FutureWarning: Calling int on a single element Series is deprecated and will raise a TypeError in the future. Use int(ser.iloc[0]) instead\n",
      "  ll_lat_scan=int(df[abs(df['ll_lat_difference']) == min(abs(df['ll_lat_difference']))]['Scan'])\n"
     ]
    },
    {
     "name": "stdout",
     "output_type": "stream",
     "text": [
      "1\n",
      "7 /media/ubuntu/disk\n",
      "3 /media/ubuntu/disk/tmc_intersects\n",
      "6 /media/ubuntu/disk/tmc_intersects/ch2_tmc_ncn_20220109T1022082458_d_img_d32\n"
     ]
    },
    {
     "name": "stderr",
     "output_type": "stream",
     "text": [
      "/tmp/ipykernel_8092/1678267675.py:82: FutureWarning: Calling int on a single element Series is deprecated and will raise a TypeError in the future. Use int(ser.iloc[0]) instead\n",
      "  ur_long_pix=int(df[abs(df['ur_lon_difference']) == min(abs(df['ur_lon_difference']))]['Pixel'])\n",
      "/tmp/ipykernel_8092/1678267675.py:83: FutureWarning: Calling int on a single element Series is deprecated and will raise a TypeError in the future. Use int(ser.iloc[0]) instead\n",
      "  ll_long_pix=int(df[abs(df['ll_lon_difference']) == min(abs(df['ll_lon_difference']))][\"Pixel\"])\n",
      "/tmp/ipykernel_8092/1678267675.py:84: FutureWarning: Calling int on a single element Series is deprecated and will raise a TypeError in the future. Use int(ser.iloc[0]) instead\n",
      "  ur_lat_scan=int(df[abs(df['ur_lat_difference']) == min(abs(df['ur_lat_difference']))][\"Scan\"])\n",
      "/tmp/ipykernel_8092/1678267675.py:85: FutureWarning: Calling int on a single element Series is deprecated and will raise a TypeError in the future. Use int(ser.iloc[0]) instead\n",
      "  ll_lat_scan=int(df[abs(df['ll_lat_difference']) == min(abs(df['ll_lat_difference']))]['Scan'])\n"
     ]
    },
    {
     "name": "stdout",
     "output_type": "stream",
     "text": [
      "2\n",
      "7 /media/ubuntu/disk\n",
      "3 /media/ubuntu/disk/tmc_intersects\n",
      "6 /media/ubuntu/disk/tmc_intersects/ch2_tmc_ncn_20220109T1219587048_d_img_d32\n"
     ]
    },
    {
     "name": "stderr",
     "output_type": "stream",
     "text": [
      "/tmp/ipykernel_8092/1678267675.py:82: FutureWarning: Calling int on a single element Series is deprecated and will raise a TypeError in the future. Use int(ser.iloc[0]) instead\n",
      "  ur_long_pix=int(df[abs(df['ur_lon_difference']) == min(abs(df['ur_lon_difference']))]['Pixel'])\n",
      "/tmp/ipykernel_8092/1678267675.py:83: FutureWarning: Calling int on a single element Series is deprecated and will raise a TypeError in the future. Use int(ser.iloc[0]) instead\n",
      "  ll_long_pix=int(df[abs(df['ll_lon_difference']) == min(abs(df['ll_lon_difference']))][\"Pixel\"])\n",
      "/tmp/ipykernel_8092/1678267675.py:84: FutureWarning: Calling int on a single element Series is deprecated and will raise a TypeError in the future. Use int(ser.iloc[0]) instead\n",
      "  ur_lat_scan=int(df[abs(df['ur_lat_difference']) == min(abs(df['ur_lat_difference']))][\"Scan\"])\n",
      "/tmp/ipykernel_8092/1678267675.py:85: FutureWarning: Calling int on a single element Series is deprecated and will raise a TypeError in the future. Use int(ser.iloc[0]) instead\n",
      "  ll_lat_scan=int(df[abs(df['ll_lat_difference']) == min(abs(df['ll_lat_difference']))]['Scan'])\n"
     ]
    },
    {
     "name": "stdout",
     "output_type": "stream",
     "text": [
      "2\n",
      "7 /media/ubuntu/disk\n",
      "3 /media/ubuntu/disk/tmc_intersects\n",
      "6 /media/ubuntu/disk/tmc_intersects/ch2_tmc_ncn_20220110T1352097832_d_img_d32\n"
     ]
    },
    {
     "name": "stderr",
     "output_type": "stream",
     "text": [
      "/tmp/ipykernel_8092/1678267675.py:82: FutureWarning: Calling int on a single element Series is deprecated and will raise a TypeError in the future. Use int(ser.iloc[0]) instead\n",
      "  ur_long_pix=int(df[abs(df['ur_lon_difference']) == min(abs(df['ur_lon_difference']))]['Pixel'])\n",
      "/tmp/ipykernel_8092/1678267675.py:83: FutureWarning: Calling int on a single element Series is deprecated and will raise a TypeError in the future. Use int(ser.iloc[0]) instead\n",
      "  ll_long_pix=int(df[abs(df['ll_lon_difference']) == min(abs(df['ll_lon_difference']))][\"Pixel\"])\n",
      "/tmp/ipykernel_8092/1678267675.py:84: FutureWarning: Calling int on a single element Series is deprecated and will raise a TypeError in the future. Use int(ser.iloc[0]) instead\n",
      "  ur_lat_scan=int(df[abs(df['ur_lat_difference']) == min(abs(df['ur_lat_difference']))][\"Scan\"])\n",
      "/tmp/ipykernel_8092/1678267675.py:85: FutureWarning: Calling int on a single element Series is deprecated and will raise a TypeError in the future. Use int(ser.iloc[0]) instead\n",
      "  ll_lat_scan=int(df[abs(df['ll_lat_difference']) == min(abs(df['ll_lat_difference']))]['Scan'])\n"
     ]
    },
    {
     "name": "stdout",
     "output_type": "stream",
     "text": [
      "2\n",
      "7 /media/ubuntu/disk\n",
      "3 /media/ubuntu/disk/tmc_intersects\n",
      "6 /media/ubuntu/disk/tmc_intersects/ch2_tmc_ncn_20220110T0956254489_d_img_d32\n"
     ]
    },
    {
     "name": "stderr",
     "output_type": "stream",
     "text": [
      "/tmp/ipykernel_8092/1678267675.py:82: FutureWarning: Calling int on a single element Series is deprecated and will raise a TypeError in the future. Use int(ser.iloc[0]) instead\n",
      "  ur_long_pix=int(df[abs(df['ur_lon_difference']) == min(abs(df['ur_lon_difference']))]['Pixel'])\n",
      "/tmp/ipykernel_8092/1678267675.py:83: FutureWarning: Calling int on a single element Series is deprecated and will raise a TypeError in the future. Use int(ser.iloc[0]) instead\n",
      "  ll_long_pix=int(df[abs(df['ll_lon_difference']) == min(abs(df['ll_lon_difference']))][\"Pixel\"])\n",
      "/tmp/ipykernel_8092/1678267675.py:84: FutureWarning: Calling int on a single element Series is deprecated and will raise a TypeError in the future. Use int(ser.iloc[0]) instead\n",
      "  ur_lat_scan=int(df[abs(df['ur_lat_difference']) == min(abs(df['ur_lat_difference']))][\"Scan\"])\n",
      "/tmp/ipykernel_8092/1678267675.py:85: FutureWarning: Calling int on a single element Series is deprecated and will raise a TypeError in the future. Use int(ser.iloc[0]) instead\n",
      "  ll_lat_scan=int(df[abs(df['ll_lat_difference']) == min(abs(df['ll_lat_difference']))]['Scan'])\n"
     ]
    },
    {
     "name": "stdout",
     "output_type": "stream",
     "text": [
      "1\n",
      "7 /media/ubuntu/disk\n",
      "3 /media/ubuntu/disk/tmc_intersects\n",
      "6 /media/ubuntu/disk/tmc_intersects/ch2_tmc_ncn_20220110T1154169263_d_img_d32\n"
     ]
    }
   ],
   "source": [
    "i = 371\n",
    "while i < len(df_LR_HR):\n",
    "    try:\n",
    "        ohrc = df_LR_HR.iloc[i]['ohrc']\n",
    "        tmc = df_LR_HR.iloc[i]['tmc']\n",
    "\n",
    "        os.chdir('ohrc_calibrated/')\n",
    "        os.chdir(ohrc+'/data/calibrated/'+ohrc[12:20])\n",
    "#         print(1,os.getcwd())\n",
    "\n",
    "        lat = np.zeros((2, 2))\n",
    "        lon = np.zeros((2, 2))\n",
    "        for file in os.listdir():\n",
    "            if '.xml' in file:\n",
    "                with open(file, 'r') as xml_file:\n",
    "                    contents = xml_file.read()\n",
    "\n",
    "                soup = bs4.BeautifulSoup(contents, 'lxml')\n",
    "                lat[0, 0] = float(soup.find_all('isda:upper_left_latitude')[1].text)\n",
    "                lat[0, 1] = float(soup.find_all('isda:upper_right_latitude')[1].text)\n",
    "                lat[1, 0] = float(soup.find_all('isda:lower_left_latitude')[1].text)\n",
    "                lat[1, 1] = float(soup.find_all('isda:lower_right_latitude')[1].text)\n",
    "\n",
    "                lon[0, 0] = float(soup.find_all('isda:upper_left_longitude')[1].text)\n",
    "                lon[0, 1] = float(soup.find_all('isda:upper_right_longitude')[1].text)\n",
    "                lon[1, 0] = float(soup.find_all('isda:lower_left_longitude')[1].text)\n",
    "                lon[1, 1] = float(soup.find_all('isda:lower_right_longitude')[1].text)\n",
    "\n",
    "        os.chdir('../../../../../')\n",
    "#         print(2,os.getcwd())\n",
    "\n",
    "        os.chdir('tmc_intersects/')\n",
    "        print(3,os.getcwd())\n",
    "        target_tmc = ''\n",
    "        for tmc_file in os.listdir():\n",
    "            if tmc in tmc_file:\n",
    "                target_tmc = tmc_file\n",
    "\n",
    "        os.chdir(target_tmc+'/geometry/calibrated/'+target_tmc[12:20]) #tmc file's csv coordinates\n",
    "#         print(4,os.getcwd())\n",
    "        for file in os.listdir():\n",
    "            if '.csv' in file:\n",
    "                df = pd.read_csv(file)\n",
    "\n",
    "        df['ul_lon_difference'] = df['Longitude'] - lon[0, 0]\n",
    "        df['ur_lon_difference'] = df['Longitude'] - lon[0, 1]\n",
    "        df['ll_lon_difference'] = df['Longitude'] - lon[1, 0]\n",
    "        df['lr_lon_difference'] = df['Longitude'] - lon[1, 1]\n",
    "\n",
    "        df['ul_lat_difference'] = df['Latitude'] - lat[0, 0]\n",
    "        df['ur_lat_difference'] = df['Latitude'] - lat[0, 1]\n",
    "        df['ll_lat_difference'] = df['Latitude'] - lat[1, 0]\n",
    "        df['lr_lat_difference'] = df['Latitude'] - lat[1, 1]     \n",
    "\n",
    "#         print(5,os.getcwd())\n",
    "        os.chdir('../../../')\n",
    "        print(6,os.getcwd())\n",
    "        os.chdir('data/calibrated/'+target_tmc[12:20])\n",
    "\n",
    "        w = 0\n",
    "        h = 0\n",
    "        for file in os.listdir():\n",
    "            if '.xml' in file:\n",
    "                with open(file, 'r') as xml_file:\n",
    "                    contents = xml_file.read()\n",
    "                soup = bs4.BeautifulSoup(contents, 'lxml')\n",
    "                w=int(soup.find_all(\"elements\")[0].text)\n",
    "                h=int(soup.find_all(\"elements\")[1].text)\n",
    "\n",
    "                data_type = soup.find_all('data_type')[0].text\n",
    "\n",
    "        for file in os.listdir():\n",
    "            if '.img' in file:\n",
    "                with open(file, 'rb') as img:\n",
    "                    img_bytes = img.read()\n",
    "\n",
    "                    if data_type == 'UnsignedByte':\n",
    "                        tmc_img_array = np.frombuffer(img_bytes, dtype = np.uint8).reshape(w, h)\n",
    "                    else:\n",
    "                        tmc_img_array = np.frombuffer(img_bytes, dtype = np.uint16).reshape(w, h)\n",
    "\n",
    "        ur_long_pix=int(df[abs(df['ur_lon_difference']) == min(abs(df['ur_lon_difference']))]['Pixel'])\n",
    "        ll_long_pix=int(df[abs(df['ll_lon_difference']) == min(abs(df['ll_lon_difference']))][\"Pixel\"])\n",
    "        ur_lat_scan=int(df[abs(df['ur_lat_difference']) == min(abs(df['ur_lat_difference']))][\"Scan\"])\n",
    "        ll_lat_scan=int(df[abs(df['ll_lat_difference']) == min(abs(df['ll_lat_difference']))]['Scan'])\n",
    "\n",
    "        if((ur_lat_scan> ll_lat_scan) and (ur_long_pix< ll_long_pix)):\n",
    "            plt.imshow(tmc_img_array[ll_lat_scan:ur_lat_scan, ur_long_pix:ll_long_pix], cmap='gray', origin='lower')\n",
    "            print(1)\n",
    "        elif((ur_lat_scan> ll_lat_scan) and (ur_long_pix> ll_long_pix)):\n",
    "            plt.imshow(tmc_img_array[ll_lat_scan:ur_lat_scan, ll_long_pix:ur_long_pix], cmap='gray', origin='lower')\n",
    "            print(2)\n",
    "        elif((ur_lat_scan< ll_lat_scan) and (ur_long_pix< ll_long_pix)):\n",
    "            plt.imshow(tmc_img_array[ur_lat_scan:ll_lat_scan, ur_long_pix:ll_long_pix], cmap='gray', origin='lower')\n",
    "            print(3)\n",
    "        elif((ur_lat_scan< ll_lat_scan) and (ur_long_pix > ll_long_pix)):\n",
    "            plt.imshow(tmc_img_array[ur_lat_scan:ll_lat_scan, ll_long_pix:ur_long_pix], cmap='gray', origin='lower')\n",
    "            print(4)\n",
    "\n",
    "        os.chdir('../../../../../')\n",
    "        print(7,os.getcwd())\n",
    "        plt.axis('off')\n",
    "        plt.savefig('saved_tmc_cropping/'+str(i),pad_inches=0,bbox_inches='tight' )\n",
    "        i += 1\n",
    "        \n",
    "    except Exception as e:\n",
    "        os.chdir('../../../../../')\n",
    "        print(7,os.getcwd())\n",
    "        print('lol')\n",
    "        print(e)\n",
    "        i += 1"
   ]
  },
  {
   "cell_type": "code",
   "execution_count": null,
   "id": "a51ac5e7",
   "metadata": {},
   "outputs": [],
   "source": [
    "with open('ch2_ohr_ncp_20190906T1246532096_d_img_d18.xml', 'r') as xml_file:\n",
    "    contents = xml_file.read()\n",
    "\n",
    "soup = bs4.BeautifulSoup(contents, 'lxml')"
   ]
  },
  {
   "cell_type": "code",
   "execution_count": null,
   "id": "e1344f1d",
   "metadata": {},
   "outputs": [],
   "source": [
    "lat = np.zeros((2, 2))\n",
    "lon = np.zeros((2, 2))"
   ]
  },
  {
   "cell_type": "code",
   "execution_count": null,
   "id": "79c20485",
   "metadata": {},
   "outputs": [],
   "source": [
    "lat[0, 0] = float(soup.find_all('isda:upper_left_latitude')[1].text)\n",
    "lat[0, 1] = float(soup.find_all('isda:upper_right_latitude')[1].text)\n",
    "lat[1, 0] = float(soup.find_all('isda:lower_left_latitude')[1].text)\n",
    "lat[1, 1] = float(soup.find_all('isda:lower_right_latitude')[1].text)\n",
    "lat"
   ]
  },
  {
   "cell_type": "code",
   "execution_count": null,
   "id": "6ff71a4c",
   "metadata": {},
   "outputs": [],
   "source": [
    "lon[0, 0] = float(soup.find_all('isda:upper_left_longitude')[1].text)\n",
    "lon[0, 1] = float(soup.find_all('isda:upper_right_longitude')[1].text)\n",
    "lon[1, 0] = float(soup.find_all('isda:lower_left_longitude')[1].text)\n",
    "lon[1, 1] = float(soup.find_all('isda:lower_right_longitude')[1].text)\n",
    "lon"
   ]
  },
  {
   "cell_type": "code",
   "execution_count": null,
   "id": "22ea4813",
   "metadata": {},
   "outputs": [],
   "source": [
    "csv = 'ch2_tmc_ncn_20230205T1606344957_g_grd_n18.csv'"
   ]
  },
  {
   "cell_type": "code",
   "execution_count": null,
   "id": "49104744",
   "metadata": {},
   "outputs": [],
   "source": [
    "df = pd.read_csv(csv)\n",
    "df['ul_lon_difference'] = df['Longitude'] - lon[0, 0]\n",
    "df['ur_lon_difference'] = df['Longitude'] - lon[0, 1]\n",
    "df['ll_lon_difference'] = df['Longitude'] - lon[1, 0]\n",
    "df['lr_lon_difference'] = df['Longitude'] - lon[1, 1]\n",
    "\n",
    "df['ul_lat_difference'] = df['Latitude'] - lat[0, 0]\n",
    "df['ur_lat_difference'] = df['Latitude'] - lat[0, 1]\n",
    "df['ll_lat_difference'] = df['Latitude'] - lat[1, 0]\n",
    "df['lr_lat_difference'] = df['Latitude'] - lat[1, 1]"
   ]
  },
  {
   "cell_type": "code",
   "execution_count": null,
   "id": "68e37401",
   "metadata": {},
   "outputs": [],
   "source": [
    "df"
   ]
  },
  {
   "cell_type": "code",
   "execution_count": null,
   "id": "254f3913",
   "metadata": {},
   "outputs": [],
   "source": [
    "ul_lon_df = df[abs(df['ul_lon_difference']) < 0.1]\n",
    "ur_lon_df = df[abs(df['ur_lon_difference']) < 0.1]\n",
    "ll_lon_df = df[abs(df['ll_lon_difference']) < 0.1]\n",
    "lr_lon_df = df[abs(df['lr_lon_difference']) < 0.1]\n",
    "\n",
    "ul_lat_df = df[abs(df['ul_lat_difference']) < 0.1]\n",
    "ur_lat_df = df[abs(df['ur_lat_difference']) < 0.1]\n",
    "ll_lat_df = df[abs(df['ll_lat_difference']) < 0.1]\n",
    "lr_lat_df = df[abs(df['lr_lat_difference']) < 0.1]"
   ]
  },
  {
   "cell_type": "code",
   "execution_count": null,
   "id": "18b200b8",
   "metadata": {},
   "outputs": [],
   "source": [
    "ur_long_pix=int(df[abs(df['ur_lon_difference']) == min(abs(df['ur_lon_difference']))]['Pixel'])"
   ]
  },
  {
   "cell_type": "code",
   "execution_count": null,
   "id": "7e774c3b",
   "metadata": {},
   "outputs": [],
   "source": [
    "ll_long_pix=int(df[abs(df['ll_lon_difference']) == min(abs(df['ll_lon_difference']))][\"Pixel\"])"
   ]
  },
  {
   "cell_type": "code",
   "execution_count": null,
   "id": "31e59f00",
   "metadata": {},
   "outputs": [],
   "source": [
    "ur_lat_scan=int(df[abs(df['ur_lat_difference']) == min(abs(df['ur_lat_difference']))][\"Scan\"])"
   ]
  },
  {
   "cell_type": "code",
   "execution_count": null,
   "id": "e7881253",
   "metadata": {},
   "outputs": [],
   "source": [
    "ll_lat_scan=int(df[abs(df['ll_lat_difference']) == min(abs(df['ll_lat_difference']))]['Scan'])"
   ]
  },
  {
   "cell_type": "code",
   "execution_count": null,
   "id": "4b6ad4fc",
   "metadata": {},
   "outputs": [],
   "source": [
    "with open('ch2_tmc_ncn_20230205T1606344957_d_img_n18.xml', 'r') as xml_file:\n",
    "    contents = xml_file.read()\n",
    "\n",
    "soup = bs4.BeautifulSoup(contents, 'lxml')"
   ]
  },
  {
   "cell_type": "code",
   "execution_count": null,
   "id": "a2216e64",
   "metadata": {},
   "outputs": [],
   "source": [
    "w=int(soup.find_all(\"elements\")[0].text)\n",
    "h=int(soup.find_all(\"elements\")[1].text)"
   ]
  },
  {
   "cell_type": "code",
   "execution_count": null,
   "id": "e9598b10",
   "metadata": {},
   "outputs": [],
   "source": [
    "filename = 'ch2_tmc_ncn_20230205T1606344957_d_img_n18.img' \n",
    "\n",
    "# set width and height \n",
    "# w, h = 176476, 4000 \n",
    "\n",
    "with open(filename, 'rb') as img:\n",
    "    img_bytes = img.read()\n",
    "len(img_bytes)"
   ]
  },
  {
   "cell_type": "code",
   "execution_count": null,
   "id": "52de363c",
   "metadata": {},
   "outputs": [],
   "source": [
    "img_array = np.frombuffer(img_bytes, dtype = np.uint16).reshape(w, h)\n",
    "img_array.shape"
   ]
  },
  {
   "cell_type": "code",
   "execution_count": null,
   "id": "6166029b",
   "metadata": {},
   "outputs": [],
   "source": [
    "print(ur_lat_scan,ll_lat_scan)"
   ]
  },
  {
   "cell_type": "code",
   "execution_count": null,
   "id": "ef2e30c5",
   "metadata": {},
   "outputs": [],
   "source": [
    "if((ur_lat_scan> ll_lat_scan) and (ur_long_pix< ll_long_pix)):\n",
    "    plt.imshow(img_array[ll_lat_scan:ur_lat_scan, ur_long_pix:ll_long_pix], cmap='gray', origin='lower')\n",
    "    print(1)\n",
    "elif((ur_lat_scan> ll_lat_scan) and (ur_long_pix> ll_long_pix)):\n",
    "    plt.imshow(img_array[ll_lat_scan:ur_lat_scan, ll_long_pix:ur_long_pix], cmap='gray', origin='lower')\n",
    "    print(2)\n",
    "elif((ur_lat_scan< ll_lat_scan) and (ur_long_pix< ll_long_pix)):\n",
    "    plt.imshow(img_array[ur_lat_scan:ll_lat_scan, ur_long_pix:ll_long_pix], cmap='gray', origin='lower')\n",
    "    print(3)\n",
    "elif((ur_lat_scan< ll_lat_scan) and (ur_long_pix > ll_long_pix)):\n",
    "    plt.imshow(img_array[ur_lat_scan:ll_lat_scan, ll_long_pix:ur_long_pix], cmap='gray', origin='lower')\n",
    "    print(4)"
   ]
  },
  {
   "cell_type": "markdown",
   "id": "15b3de1a",
   "metadata": {},
   "source": [
    "another image"
   ]
  },
  {
   "cell_type": "code",
   "execution_count": null,
   "id": "f2bbc36d",
   "metadata": {},
   "outputs": [],
   "source": [
    "filename = 'ch2_tmc_ncn_20211111T1322553940_d_img_d18.img' \n",
    "\n",
    "# set width and height \n",
    "w, h = 190796, 4000 \n",
    "\n",
    "with open(filename, 'rb') as img:\n",
    "    img_bytes = img.read()\n",
    "len(img_bytes)"
   ]
  },
  {
   "cell_type": "code",
   "execution_count": null,
   "id": "e071284b",
   "metadata": {},
   "outputs": [],
   "source": [
    "img_array = np.frombuffer(img_bytes, dtype = np.uint16).reshape(w, h)\n",
    "img_array.shape"
   ]
  },
  {
   "cell_type": "code",
   "execution_count": null,
   "id": "d06a2798",
   "metadata": {},
   "outputs": [],
   "source": [
    "plt.imshow(img_array[185600:180600:-1, 500:1200], cmap='gray', origin='lower')"
   ]
  },
  {
   "cell_type": "code",
   "execution_count": null,
   "id": "51699aab",
   "metadata": {},
   "outputs": [],
   "source": []
  }
 ],
 "metadata": {
  "kernelspec": {
   "display_name": "Python 3 (ipykernel)",
   "language": "python",
   "name": "python3"
  },
  "language_info": {
   "codemirror_mode": {
    "name": "ipython",
    "version": 3
   },
   "file_extension": ".py",
   "mimetype": "text/x-python",
   "name": "python",
   "nbconvert_exporter": "python",
   "pygments_lexer": "ipython3",
   "version": "3.10.12"
  }
 },
 "nbformat": 4,
 "nbformat_minor": 5
}
